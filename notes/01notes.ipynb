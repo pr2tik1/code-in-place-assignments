{
 "metadata": {
  "language_info": {
   "codemirror_mode": {
    "name": "ipython",
    "version": 3
   },
   "file_extension": ".py",
   "mimetype": "text/x-python",
   "name": "python",
   "nbconvert_exporter": "python",
   "pygments_lexer": "ipython3",
   "version": "3.8.5"
  },
  "orig_nbformat": 2,
  "kernelspec": {
   "name": "python385jvsc74a57bd0916dbcbb3f70747c44a77c7bcd40155683ae19c65e1c03b4aa3499c5328201f1",
   "display_name": "Python 3.8.5 64-bit"
  },
  "metadata": {
   "interpreter": {
    "hash": "916dbcbb3f70747c44a77c7bcd40155683ae19c65e1c03b4aa3499c5328201f1"
   }
  }
 },
 "nbformat": 4,
 "nbformat_minor": 2,
 "cells": [
  {
   "source": [
    "# Python3 Notes from Code in Place 2021\n",
    "---\n",
    "\n",
    "- Part01\n",
    "    1. Introduction\n",
    "    2. Style\n",
    "    3. Interpreter\n",
    "    4. Variables\n",
    "    5. print\n",
    "    6. input\n",
    "    7. math and expressions\n",
    "    8. Constants\n",
    "    9. random\n",
    "    10. Booleans  \n",
    "    11. if\n",
    "    12. while\n",
    "    13. for \n",
    "    14. Functions\n",
    "    15. DocTests\n",
    "\n",
    "- Part02\n",
    "    16. Images\n",
    "    17. TextGrid"
   ],
   "cell_type": "markdown",
   "metadata": {}
  },
  {
   "source": [
    "## 1. Introduction\n",
    "\n",
    "https://docs.python.org/3/"
   ],
   "cell_type": "markdown",
   "metadata": {}
  },
  {
   "source": [
    "## 2. Style\n",
    "\n",
    "https://www.python.org/dev/peps/pep-0008/"
   ],
   "cell_type": "markdown",
   "metadata": {}
  },
  {
   "source": [
    "## 3. Interpreter\n"
   ],
   "cell_type": "markdown",
   "metadata": {}
  },
  {
   "cell_type": "code",
   "execution_count": 41,
   "metadata": {},
   "outputs": [
    {
     "output_type": "stream",
     "name": "stdout",
     "text": [
      "hello world!\n"
     ]
    }
   ],
   "source": [
    "print(\"hello world!\")"
   ]
  },
  {
   "source": [
    "## 4. Variables"
   ],
   "cell_type": "markdown",
   "metadata": {}
  },
  {
   "cell_type": "code",
   "execution_count": 42,
   "metadata": {},
   "outputs": [],
   "source": [
    "a,b = 4,7\n",
    "temp = 0"
   ]
  },
  {
   "source": [
    "Swapping"
   ],
   "cell_type": "markdown",
   "metadata": {}
  },
  {
   "cell_type": "code",
   "execution_count": 43,
   "metadata": {},
   "outputs": [],
   "source": [
    "temp = a\n",
    "a = b \n",
    "b = temp "
   ]
  },
  {
   "cell_type": "code",
   "execution_count": 44,
   "metadata": {},
   "outputs": [
    {
     "output_type": "execute_result",
     "data": {
      "text/plain": [
       "(7, 4)"
      ]
     },
     "metadata": {},
     "execution_count": 44
    }
   ],
   "source": [
    "a,b"
   ]
  },
  {
   "source": [
    "## 5. Print"
   ],
   "cell_type": "markdown",
   "metadata": {}
  },
  {
   "cell_type": "code",
   "execution_count": 45,
   "metadata": {},
   "outputs": [],
   "source": [
    "def hello():\n",
    "    print('hello there')\n",
    "    print('wassup?')    "
   ]
  },
  {
   "cell_type": "code",
   "execution_count": 46,
   "metadata": {},
   "outputs": [
    {
     "output_type": "stream",
     "name": "stdout",
     "text": [
      "hello there\nwassup?\n"
     ]
    }
   ],
   "source": [
    "hello()"
   ]
  },
  {
   "source": [
    "## 6. Input"
   ],
   "cell_type": "markdown",
   "metadata": {}
  },
  {
   "cell_type": "code",
   "execution_count": 47,
   "metadata": {},
   "outputs": [],
   "source": [
    "def hello():\n",
    "    print('hello there')\n",
    "    user_status = input('wassup? ')\n",
    "    print('you said: ' + user_status)"
   ]
  },
  {
   "cell_type": "code",
   "execution_count": 48,
   "metadata": {},
   "outputs": [
    {
     "output_type": "stream",
     "name": "stdout",
     "text": [
      "hello there\n",
      "you said: 78\n"
     ]
    }
   ],
   "source": [
    "hello()"
   ]
  },
  {
   "source": [
    "## 7. Math "
   ],
   "cell_type": "markdown",
   "metadata": {}
  },
  {
   "cell_type": "code",
   "execution_count": 49,
   "metadata": {},
   "outputs": [
    {
     "output_type": "execute_result",
     "data": {
      "text/plain": [
       "3"
      ]
     },
     "metadata": {},
     "execution_count": 49
    }
   ],
   "source": [
    "1+2"
   ]
  },
  {
   "cell_type": "code",
   "execution_count": 50,
   "metadata": {},
   "outputs": [
    {
     "output_type": "execute_result",
     "data": {
      "text/plain": [
       "1.0"
      ]
     },
     "metadata": {},
     "execution_count": 50
    }
   ],
   "source": [
    "2/2"
   ]
  },
  {
   "cell_type": "code",
   "execution_count": 51,
   "metadata": {},
   "outputs": [
    {
     "output_type": "execute_result",
     "data": {
      "text/plain": [
       "0.2"
      ]
     },
     "metadata": {},
     "execution_count": 51
    }
   ],
   "source": [
    "0.1+0.1"
   ]
  },
  {
   "source": [
    "Float Error"
   ],
   "cell_type": "markdown",
   "metadata": {}
  },
  {
   "cell_type": "code",
   "execution_count": 52,
   "metadata": {},
   "outputs": [
    {
     "output_type": "execute_result",
     "data": {
      "text/plain": [
       "0.30000000000000004"
      ]
     },
     "metadata": {},
     "execution_count": 52
    }
   ],
   "source": [
    "0.1+0.1+0.1"
   ]
  },
  {
   "cell_type": "code",
   "execution_count": 53,
   "metadata": {},
   "outputs": [
    {
     "output_type": "execute_result",
     "data": {
      "text/plain": [
       "0.4"
      ]
     },
     "metadata": {},
     "execution_count": 53
    }
   ],
   "source": [
    "0.1+0.1+0.1+0.1"
   ]
  },
  {
   "cell_type": "code",
   "execution_count": 54,
   "metadata": {},
   "outputs": [
    {
     "output_type": "execute_result",
     "data": {
      "text/plain": [
       "0.7999999999999999"
      ]
     },
     "metadata": {},
     "execution_count": 54
    }
   ],
   "source": [
    "0.1+0.1+0.1+0.1+0.1+0.1+0.1+0.1"
   ]
  },
  {
   "source": [
    "Memory use approximation: float values take up about 24 bytes apiece."
   ],
   "cell_type": "markdown",
   "metadata": {}
  },
  {
   "source": [
    "## 8. Constants"
   ],
   "cell_type": "markdown",
   "metadata": {}
  },
  {
   "cell_type": "code",
   "execution_count": 55,
   "metadata": {},
   "outputs": [],
   "source": [
    "SECONDS_PER_MIN = 60"
   ]
  },
  {
   "cell_type": "code",
   "execution_count": 56,
   "metadata": {},
   "outputs": [],
   "source": [
    "def time_func():\n",
    "    mins = float(input(\"Enter number of minutes: \"))\n",
    "    seconds = mins * SECONDS_PER_MIN\n",
    "    print(\"That is\", seconds, \"seconds!\")"
   ]
  },
  {
   "cell_type": "code",
   "execution_count": 57,
   "metadata": {},
   "outputs": [
    {
     "output_type": "stream",
     "name": "stdout",
     "text": [
      "That is 4680.0 seconds!\n"
     ]
    }
   ],
   "source": [
    "time_func()"
   ]
  },
  {
   "source": [
    "## 9. Random"
   ],
   "cell_type": "markdown",
   "metadata": {}
  },
  {
   "cell_type": "code",
   "execution_count": 58,
   "metadata": {},
   "outputs": [],
   "source": [
    "import random"
   ]
  },
  {
   "cell_type": "code",
   "execution_count": 59,
   "metadata": {},
   "outputs": [
    {
     "output_type": "stream",
     "name": "stdout",
     "text": [
      "6\n"
     ]
    }
   ],
   "source": [
    "dice_roll = random.randint(1, 6)\n",
    "print(dice_roll)"
   ]
  },
  {
   "source": [
    "## 10. Booleans"
   ],
   "cell_type": "markdown",
   "metadata": {}
  },
  {
   "cell_type": "code",
   "execution_count": 60,
   "metadata": {},
   "outputs": [],
   "source": [
    "x = 1 < 2    #True\n",
    "y = 5.0 == 4.0    #False "
   ]
  },
  {
   "cell_type": "code",
   "execution_count": 61,
   "metadata": {},
   "outputs": [
    {
     "output_type": "execute_result",
     "data": {
      "text/plain": [
       "True"
      ]
     },
     "metadata": {},
     "execution_count": 61
    }
   ],
   "source": [
    "x"
   ]
  },
  {
   "cell_type": "code",
   "execution_count": 62,
   "metadata": {},
   "outputs": [
    {
     "output_type": "execute_result",
     "data": {
      "text/plain": [
       "False"
      ]
     },
     "metadata": {},
     "execution_count": 62
    }
   ],
   "source": [
    "y"
   ]
  },
  {
   "source": [
    "## 11. If"
   ],
   "cell_type": "markdown",
   "metadata": {}
  },
  {
   "cell_type": "code",
   "execution_count": 63,
   "metadata": {},
   "outputs": [
    {
     "output_type": "stream",
     "name": "stdout",
     "text": [
      "That number is not 0\n"
     ]
    }
   ],
   "source": [
    "num = int(input(\"Enter a number: \"))\n",
    "if num == 0: \n",
    "   print(\"That number is 0\")\n",
    "else: \n",
    "   print(\"That number is not 0\")"
   ]
  },
  {
   "cell_type": "code",
   "execution_count": 64,
   "metadata": {},
   "outputs": [
    {
     "output_type": "stream",
     "name": "stdout",
     "text": [
      "Your number is 0\n"
     ]
    }
   ],
   "source": [
    "num = int(input(\"Enter a number: \"))\n",
    "if num == 0: \n",
    "   print(\"Your number is 0\")\n",
    "elif num > 0:\n",
    "   print(\"Your number is positive\")\n",
    "else:\n",
    "   print(\"Your number is negative\")"
   ]
  },
  {
   "source": [
    "## 12. While"
   ],
   "cell_type": "markdown",
   "metadata": {}
  },
  {
   "cell_type": "code",
   "execution_count": 65,
   "metadata": {},
   "outputs": [
    {
     "output_type": "stream",
     "name": "stdout",
     "text": [
      "I am thinking of a number between 1 and 99…\n"
     ]
    }
   ],
   "source": [
    "secret_number = random.randint(1, 9)\n",
    "print(\"I am thinking of a number between 1 and 99…\")"
   ]
  },
  {
   "cell_type": "code",
   "execution_count": 66,
   "metadata": {},
   "outputs": [
    {
     "output_type": "error",
     "ename": "NameError",
     "evalue": "name 'guess' is not defined",
     "traceback": [
      "\u001b[0;31m---------------------------------------------------------------------------\u001b[0m",
      "\u001b[0;31mNameError\u001b[0m                                 Traceback (most recent call last)",
      "\u001b[0;32m<ipython-input-66-58a09689e4d2>\u001b[0m in \u001b[0;36m<module>\u001b[0;34m\u001b[0m\n\u001b[0;32m----> 1\u001b[0;31m \u001b[0;32mwhile\u001b[0m \u001b[0mguess\u001b[0m \u001b[0;34m!=\u001b[0m \u001b[0msecret_number\u001b[0m\u001b[0;34m:\u001b[0m\u001b[0;34m\u001b[0m\u001b[0;34m\u001b[0m\u001b[0m\n\u001b[0m\u001b[1;32m      2\u001b[0m    \u001b[0;32mif\u001b[0m \u001b[0mguess\u001b[0m \u001b[0;34m<\u001b[0m \u001b[0msecret_number\u001b[0m\u001b[0;34m:\u001b[0m\u001b[0;34m\u001b[0m\u001b[0;34m\u001b[0m\u001b[0m\n\u001b[1;32m      3\u001b[0m       \u001b[0mprint\u001b[0m\u001b[0;34m(\u001b[0m\u001b[0;34m\"Your guess is too low\"\u001b[0m\u001b[0;34m)\u001b[0m\u001b[0;34m\u001b[0m\u001b[0;34m\u001b[0m\u001b[0m\n\u001b[1;32m      4\u001b[0m    \u001b[0;32melse\u001b[0m\u001b[0;34m:\u001b[0m\u001b[0;34m\u001b[0m\u001b[0;34m\u001b[0m\u001b[0m\n\u001b[1;32m      5\u001b[0m       \u001b[0mprint\u001b[0m\u001b[0;34m(\u001b[0m\u001b[0;34m\"Your guess is too high\"\u001b[0m\u001b[0;34m)\u001b[0m\u001b[0;34m\u001b[0m\u001b[0;34m\u001b[0m\u001b[0m\n",
      "\u001b[0;31mNameError\u001b[0m: name 'guess' is not defined"
     ]
    }
   ],
   "source": [
    "while guess != secret_number: \n",
    "   if guess < secret_number: \n",
    "      print(\"Your guess is too low\")\n",
    "   else: \n",
    "      print(\"Your guess is too high\")\n",
    "   print() \n",
    "\n",
    "   # get another guess from the user \n",
    "   guess = int(input(\"Enter a new guess: \"))\n",
    "\n",
    "print(\"Congrats! The number was: \" + str(secret_number))"
   ]
  },
  {
   "source": [
    "## 13. for"
   ],
   "cell_type": "markdown",
   "metadata": {}
  },
  {
   "cell_type": "code",
   "execution_count": 44,
   "metadata": {},
   "outputs": [
    {
     "output_type": "stream",
     "name": "stdout",
     "text": [
      "i j\n0 0\n0 1\n0 2\n1 0\n1 1\n1 2\n"
     ]
    }
   ],
   "source": [
    "print('i', 'j')\n",
    "for i in range(2):\n",
    "   for j in range(3):\n",
    "      print(i,j)"
   ]
  },
  {
   "cell_type": "code",
   "execution_count": 45,
   "metadata": {},
   "outputs": [
    {
     "output_type": "stream",
     "name": "stdout",
     "text": [
      "4\n6\n8\n10\n"
     ]
    }
   ],
   "source": [
    "for i in range(4, 12, 2): \n",
    "   print(i)"
   ]
  },
  {
   "cell_type": "code",
   "execution_count": 46,
   "metadata": {},
   "outputs": [
    {
     "output_type": "stream",
     "name": "stdout",
     "text": [
      "0\n2\n4\n"
     ]
    }
   ],
   "source": [
    "for i in range(3): \n",
    "   print(i * 2)"
   ]
  },
  {
   "cell_type": "code",
   "execution_count": 47,
   "metadata": {},
   "outputs": [
    {
     "output_type": "stream",
     "name": "stdout",
     "text": [
      "0\n1\n2\n3\n4\n"
     ]
    }
   ],
   "source": [
    "for i in range(5): \n",
    "   print(i)"
   ]
  },
  {
   "cell_type": "code",
   "execution_count": 50,
   "metadata": {},
   "outputs": [
    {
     "output_type": "stream",
     "name": "stdout",
     "text": [
      "Python rocks socks!\nPython rocks socks!\nPython rocks socks!\nPython rocks socks!\nPython rocks socks!\nPython rocks socks!\nPython rocks socks!\nPython rocks socks!\nPython rocks socks!\nPython rocks socks!\n"
     ]
    }
   ],
   "source": [
    "for i in range(10): \n",
    "   print(\"Python rocks socks!\")"
   ]
  },
  {
   "source": [
    "## 14. Functions"
   ],
   "cell_type": "markdown",
   "metadata": {}
  },
  {
   "source": [
    "Without Functions"
   ],
   "cell_type": "markdown",
   "metadata": {}
  },
  {
   "cell_type": "code",
   "execution_count": 52,
   "metadata": {},
   "outputs": [],
   "source": [
    "def main(): \n",
    "    print(\"Welcome to the CodeInPlace Game Show\")\n",
    "    print(\"Pick a door and win a prize\")\n",
    "    print(\"------------------------------------\")\n",
    "\n",
    "    # Part 1: get the door number form the user\n",
    "    door = int(input(\"Door: \"))\n",
    "    # while the input is invalid\n",
    "    while door < 1 or door > 3 :\n",
    "        # tell the user the input was invalid\n",
    "        print(\"Invalid door!\")\n",
    "        # ask for a new input\n",
    "        door = int(input(\"Door: \"))\n",
    "\n",
    "    # Part 2: compute the prize\n",
    "    prize = 4\n",
    "    if door == 1:\n",
    "        prize = 2 + 9 // 10 * 100\n",
    "    elif door == 2:\n",
    "        locked = prize % 2 != 0\n",
    "        if not locked:\n",
    "            prize += 6\n",
    "    elif door == 3 :\n",
    "        for i in range(door):\n",
    "            prize += i  \n",
    "\n",
    "    # Part 3: report the prize\n",
    "    print('You win ' + str(prize) + ' treats')"
   ]
  },
  {
   "source": [
    "With Functions"
   ],
   "cell_type": "markdown",
   "metadata": {}
  },
  {
   "cell_type": "code",
   "execution_count": 53,
   "metadata": {},
   "outputs": [],
   "source": [
    "def main(): \n",
    "    print(\"Welcome to the CodeInPlace Game Show\")\n",
    "    print(\"Pick a door and win a prize\")\n",
    "    print(\"------------------------------------\")\n",
    "\n",
    "    door = get_door()\n",
    "    prize = compute_prize(door)\n",
    "    print('You win ' + str(prize) + ' treats')\n",
    "\n",
    "def get_door():\n",
    "    \"\"\"\n",
    "    Get door, asks the user to enter a door\n",
    "    Reprompts the user until they enter 1, 2 or 3\n",
    "    Returns the valid door choice as an int\n",
    "    \"\"\"\n",
    "    door = int(input(\"Door: \"))\n",
    "    # while the input is invalid\n",
    "    while door < 1 or door > 3 :\n",
    "        # tell the user the input was invalid\n",
    "        print(\"Invalid door!\")\n",
    "        # ask for a new input\n",
    "        door = int(input(\"Door: \"))\n",
    "    return door\n",
    "\n",
    "def compute_prize(door):\n",
    "    \"\"\"\n",
    "    Compute prize, based off the door which is \n",
    "    given as a parameter. Returns the prize. \n",
    "    Uses many non-constant magic-numbers just to \n",
    "    make the game more fun to play in class!\n",
    "    \"\"\"\n",
    "    prize = 4\n",
    "    if door == 1:\n",
    "        # what happens in door 1?\n",
    "        prize = 2 + 9 // 10 * 100\n",
    "    elif door == 2:\n",
    "        # what happens in door 2?\n",
    "        locked = prize % 2 != 0\n",
    "        if not locked:\n",
    "            prize += 6\n",
    "    elif door == 3 :\n",
    "        # what happens in door 3?\n",
    "        for i in range(door):\n",
    "            prize += i  \n",
    "    return prize"
   ]
  },
  {
   "source": [
    "## 15. Doctests"
   ],
   "cell_type": "markdown",
   "metadata": {}
  },
  {
   "cell_type": "code",
   "execution_count": 54,
   "metadata": {},
   "outputs": [],
   "source": [
    "\"\"\"\n",
    "Example of using the index variable of a for loop\n",
    "\"\"\"\n",
    "\n",
    "def main():\n",
    "    pass\n",
    "\n",
    "def is_divisible(a, b):\n",
    "    \"\"\"\n",
    "    >>> is_divisible(20, 4)\n",
    "    True\n",
    "    >>> is_divisible(12, 7)\n",
    "    False\n",
    "    >>> is_divisible(10, 10)\n",
    "    True\n",
    "    \"\"\"\n",
    "    return a % b == 0\n",
    "\n",
    "def is_leap_year(year):\n",
    "    \"\"\"\n",
    "    Returns Boolean indicating if given year is a leap year.\n",
    "    It is a leap year if the year is:\n",
    "    * divisible by 4, but not divisible by 100\n",
    "     OR\n",
    "    * divisible by 400\n",
    "    Doctests:\n",
    "    >>> is_leap_year(2001)\n",
    "    False\n",
    "    >>> is_leap_year(2020)\n",
    "    True\n",
    "    >>> is_leap_year(2000)\n",
    "    True\n",
    "    >>> is_leap_year(1900)\n",
    "    False\n",
    "    \"\"\"\n",
    "\n",
    "    # if the year is divisible by 400, it is a leap year!\n",
    "    if is_divisible(year, 400):\n",
    "        return True\n",
    "\n",
    "    # other wise its a leap year if its divisible by 4 and not 100\n",
    "    return is_divisible(year, 4) and not is_divisible(year, 100)"
   ]
  },
  {
   "cell_type": "code",
   "execution_count": 59,
   "metadata": {},
   "outputs": [
    {
     "output_type": "stream",
     "name": "stdout",
     "text": [
      "Trying:\n    is_divisible(20, 4)\nExpecting:\n    True\nok\nTrying:\n    is_divisible(12, 7)\nExpecting:\n    False\nok\nTrying:\n    is_divisible(10, 10)\nExpecting:\n    True\nok\nTrying:\n    is_leap_year(2001)\nExpecting:\n    False\nok\nTrying:\n    is_leap_year(2020)\nExpecting:\n    True\nok\nTrying:\n    is_leap_year(2000)\nExpecting:\n    True\nok\nTrying:\n    is_leap_year(1900)\nExpecting:\n    False\nok\n7 items had no tests:\n    __main__\n    __main__.compute_prize\n    __main__.get_door\n    __main__.hello\n    __main__.main\n    __main__.some_func\n    __main__.test_func\n2 items passed all tests:\n   3 tests in __main__.is_divisible\n   4 tests in __main__.is_leap_year\n7 tests in 9 items.\n7 passed and 0 failed.\nTest passed.\n"
     ]
    },
    {
     "output_type": "execute_result",
     "data": {
      "text/plain": [
       "TestResults(failed=0, attempted=7)"
      ]
     },
     "metadata": {},
     "execution_count": 59
    }
   ],
   "source": [
    "import doctest\n",
    "doctest.testmod(verbose=True)"
   ]
  },
  {
   "source": [
    "# End of Part01"
   ],
   "cell_type": "markdown",
   "metadata": {}
  }
 ]
}