{
 "cells": [
  {
   "cell_type": "markdown",
   "id": "destroyed-safety",
   "metadata": {},
   "source": [
    "# Python File Reading\n",
    "---"
   ]
  },
  {
   "cell_type": "markdown",
   "id": "turkish-strand",
   "metadata": {},
   "source": [
    "### Open File"
   ]
  },
  {
   "cell_type": "code",
   "execution_count": 7,
   "id": "worth-teacher",
   "metadata": {},
   "outputs": [],
   "source": [
    "with open('invictus.txt') as f:\n",
    "    lines = f.read()"
   ]
  },
  {
   "cell_type": "code",
   "execution_count": 8,
   "id": "twelve-welsh",
   "metadata": {},
   "outputs": [
    {
     "data": {
      "text/plain": [
       "\" Out of the night that covers me,\\n      Black as the pit from pole to pole,\\nI thank whatever gods may be\\n      For my unconquerable soul.\\n.\\n.\\n.\\nI am the master of my fate,\\n      I am the captain of my soul.\\n\\n'Invictus', by William Ernest Henley\""
      ]
     },
     "execution_count": 8,
     "metadata": {},
     "output_type": "execute_result"
    }
   ],
   "source": [
    "lines"
   ]
  },
  {
   "cell_type": "code",
   "execution_count": 11,
   "id": "brutal-jaguar",
   "metadata": {},
   "outputs": [],
   "source": [
    "with open('invictus.txt') as f:\n",
    "    lines_1 = f.readlines()"
   ]
  },
  {
   "cell_type": "code",
   "execution_count": 12,
   "id": "unlike-growing",
   "metadata": {},
   "outputs": [
    {
     "data": {
      "text/plain": [
       "[' Out of the night that covers me,\\n',\n",
       " '      Black as the pit from pole to pole,\\n',\n",
       " 'I thank whatever gods may be\\n',\n",
       " '      For my unconquerable soul.\\n',\n",
       " '.\\n',\n",
       " '.\\n',\n",
       " '.\\n',\n",
       " 'I am the master of my fate,\\n',\n",
       " '      I am the captain of my soul.\\n',\n",
       " '\\n',\n",
       " \"'Invictus', by William Ernest Henley\"]"
      ]
     },
     "execution_count": 12,
     "metadata": {},
     "output_type": "execute_result"
    }
   ],
   "source": [
    "lines_1"
   ]
  },
  {
   "cell_type": "markdown",
   "id": "intimate-heart",
   "metadata": {},
   "source": [
    "### Reading csv and writing "
   ]
  },
  {
   "cell_type": "code",
   "execution_count": 21,
   "id": "super-philadelphia",
   "metadata": {},
   "outputs": [],
   "source": [
    "import csv"
   ]
  },
  {
   "cell_type": "code",
   "execution_count": 30,
   "id": "stuck-booking",
   "metadata": {},
   "outputs": [
    {
     "name": "stdout",
     "output_type": "stream",
     "text": [
      "City, Latitude, Longitude, Population\n",
      "New York, 40.6943, -73.9249, 18713220\n",
      "Los Angeles, 34.1139, -118.4068, 12750807\n",
      "Chicago, 41.8373, -87.6862, 8604203\n",
      "Miami, 25.7839, -80.2102, 6445545\n",
      "Dallas, 32.7936, -96.7662, 5743938\n",
      "Philadelphia, 40.0077, -75.1339, 5649300\n",
      "Houston, 29.7863, -95.3889, 5464251\n"
     ]
    }
   ],
   "source": [
    "with open(\"USA.csv\") as f:\n",
    "    #next(f)\n",
    "    reader = csv.reader(f)\n",
    "    for line in reader:\n",
    "        print(\", \".join(line))"
   ]
  },
  {
   "cell_type": "code",
   "execution_count": 36,
   "id": "brave-freeware",
   "metadata": {
    "scrolled": true
   },
   "outputs": [
    {
     "name": "stdout",
     "output_type": "stream",
     "text": [
      "{'City': 'New York', 'Latitude': '40.6943', 'Longitude': '-73.9249', 'Population': '18713220'}\n",
      "{'City': 'Los Angeles', 'Latitude': '34.1139', 'Longitude': '-118.4068', 'Population': '12750807'}\n",
      "{'City': 'Chicago', 'Latitude': '41.8373', 'Longitude': '-87.6862', 'Population': '8604203'}\n",
      "{'City': 'Miami', 'Latitude': '25.7839', 'Longitude': '-80.2102', 'Population': '6445545'}\n",
      "{'City': 'Dallas', 'Latitude': '32.7936', 'Longitude': '-96.7662', 'Population': '5743938'}\n",
      "{'City': 'Philadelphia', 'Latitude': '40.0077', 'Longitude': '-75.1339', 'Population': '5649300'}\n",
      "{'City': 'Houston', 'Latitude': '29.7863', 'Longitude': '-95.3889', 'Population': '5464251'}\n"
     ]
    }
   ],
   "source": [
    "with open(\"USA.csv\", newline='') as f:\n",
    "    reader = csv.DictReader(f)\n",
    "    for line in reader:\n",
    "        print(line)"
   ]
  },
  {
   "cell_type": "code",
   "execution_count": 58,
   "id": "former-controversy",
   "metadata": {},
   "outputs": [],
   "source": [
    "with open(\"data.csv\", \"w\") as f:\n",
    "    writer = csv.writer(f)\n",
    "    writer.writerow([\"x\", \"y\"])\n",
    "    \n",
    "    writer.writerows([\n",
    "        [1,2],\n",
    "        [2,4],\n",
    "        [4,6]\n",
    "    ])"
   ]
  },
  {
   "cell_type": "code",
   "execution_count": 59,
   "id": "dedicated-employer",
   "metadata": {},
   "outputs": [
    {
     "name": "stdout",
     "output_type": "stream",
     "text": [
      "{'x': '1', 'y': '2'}\n",
      "{'x': '2', 'y': '4'}\n",
      "{'x': '4', 'y': '6'}\n"
     ]
    }
   ],
   "source": [
    "with open(\"data.csv\", newline='') as f:\n",
    "    reader = csv.DictReader(f)\n",
    "    for line in reader:\n",
    "        print(line)"
   ]
  },
  {
   "cell_type": "markdown",
   "id": "southwest-composition",
   "metadata": {},
   "source": [
    "### Reading and Writing in JSON"
   ]
  },
  {
   "cell_type": "code",
   "execution_count": 37,
   "id": "hearing-grass",
   "metadata": {},
   "outputs": [],
   "source": [
    "import json"
   ]
  },
  {
   "cell_type": "code",
   "execution_count": 56,
   "id": "introductory-terrorism",
   "metadata": {},
   "outputs": [
    {
     "name": "stdout",
     "output_type": "stream",
     "text": [
      "{'Name': 'Pratik', 'Age': 23}\n"
     ]
    }
   ],
   "source": [
    "with open(\"ages.json\") as f:\n",
    "    ages = json.load(f)\n",
    "    print(ages)"
   ]
  },
  {
   "cell_type": "code",
   "execution_count": 53,
   "id": "convertible-economics",
   "metadata": {},
   "outputs": [],
   "source": [
    "data = {\"Name\": \"Pratik\", \"Age\": 23}"
   ]
  },
  {
   "cell_type": "code",
   "execution_count": 54,
   "id": "subtle-oriental",
   "metadata": {},
   "outputs": [],
   "source": [
    "with open(\"ages.json\", \"w\") as f:\n",
    "    json.dump(data, f, indent=4)"
   ]
  },
  {
   "cell_type": "code",
   "execution_count": 55,
   "id": "national-murray",
   "metadata": {},
   "outputs": [
    {
     "name": "stdout",
     "output_type": "stream",
     "text": [
      "{'Name': 'Pratik', 'Age': 23}\n"
     ]
    }
   ],
   "source": [
    "with open(\"ages.json\") as j:\n",
    "    ages = json.load(j)\n",
    "    print(ages)"
   ]
  },
  {
   "cell_type": "markdown",
   "id": "north-macro",
   "metadata": {},
   "source": [
    "# END"
   ]
  }
 ],
 "metadata": {
  "kernelspec": {
   "display_name": "Python 3",
   "language": "python",
   "name": "python3"
  },
  "language_info": {
   "codemirror_mode": {
    "name": "ipython",
    "version": 3
   },
   "file_extension": ".py",
   "mimetype": "text/x-python",
   "name": "python",
   "nbconvert_exporter": "python",
   "pygments_lexer": "ipython3",
   "version": "3.8.5"
  }
 },
 "nbformat": 4,
 "nbformat_minor": 5
}
